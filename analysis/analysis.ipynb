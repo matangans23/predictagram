{
 "cells": [
  {
   "cell_type": "markdown",
   "metadata": {},
   "source": [
    "# Analysis"
   ]
  },
  {
   "cell_type": "markdown",
   "metadata": {},
   "source": [
    "In this section, we visualize and further clean our data, add features, and train a prediction model that attempts to accurately predict the number of likes an Instagram post will receive."
   ]
  },
  {
   "cell_type": "markdown",
   "metadata": {},
   "source": [
    "## Data Cleaning\n",
    "Here, we visualize our scraped data and see how we can improve it before training our prediction model."
   ]
  },
  {
   "cell_type": "code",
   "execution_count": 182,
   "metadata": {
    "scrolled": true
   },
   "outputs": [],
   "source": [
    "import pandas as pd\n",
    "import numpy as np\n",
    "import matplotlib.pyplot as plt\n",
    "import seaborn as sns\n",
    "from sklearn.linear_model import LinearRegression, Ridge\n",
    "from sklearn.model_selection import train_test_split, cross_val_score\n",
    "from sklearn.feature_extraction.text import CountVectorizer"
   ]
  },
  {
   "cell_type": "markdown",
   "metadata": {},
   "source": [
    "First, let's read in the data. We begin with 47737 posts from 356 users."
   ]
  },
  {
   "cell_type": "code",
   "execution_count": 183,
   "metadata": {},
   "outputs": [],
   "source": [
    "df = pd.read_json('../data/new/data.json')"
   ]
  },
  {
   "cell_type": "markdown",
   "metadata": {},
   "source": [
    "Now, let's construct two key visualizations to help us detect outliers. We'll plot distributions for number of posts (by user) and number of likes per post."
   ]
  },
  {
   "cell_type": "code",
   "execution_count": 184,
   "metadata": {
    "scrolled": false
   },
   "outputs": [
    {
     "ename": "FileNotFoundError",
     "evalue": "[Errno 2] No such file or directory: 'assets/num_posts_dist_pre.svg'",
     "output_type": "error",
     "traceback": [
      "\u001b[0;31m---------------------------------------------------------------------------\u001b[0m",
      "\u001b[0;31mFileNotFoundError\u001b[0m                         Traceback (most recent call last)",
      "\u001b[0;32m<ipython-input-184-d7c8175b0a12>\u001b[0m in \u001b[0;36m<module>\u001b[0;34m\u001b[0m\n\u001b[1;32m      9\u001b[0m \u001b[0mfig\u001b[0m\u001b[0;34m.\u001b[0m\u001b[0msuptitle\u001b[0m\u001b[0;34m(\u001b[0m\u001b[0;34m'Distribution of Number of Posts'\u001b[0m\u001b[0;34m,\u001b[0m \u001b[0msize\u001b[0m\u001b[0;34m=\u001b[0m\u001b[0;36m16\u001b[0m\u001b[0;34m)\u001b[0m\u001b[0;34m\u001b[0m\u001b[0;34m\u001b[0m\u001b[0m\n\u001b[1;32m     10\u001b[0m \u001b[0mfig\u001b[0m\u001b[0;34m.\u001b[0m\u001b[0mtext\u001b[0m\u001b[0;34m(\u001b[0m\u001b[0;36m0.5\u001b[0m\u001b[0;34m,\u001b[0m \u001b[0;36m0.04\u001b[0m\u001b[0;34m,\u001b[0m \u001b[0;34m'X: Number of Posts'\u001b[0m\u001b[0;34m,\u001b[0m \u001b[0mha\u001b[0m\u001b[0;34m=\u001b[0m\u001b[0;34m'center'\u001b[0m\u001b[0;34m,\u001b[0m \u001b[0msize\u001b[0m\u001b[0;34m=\u001b[0m\u001b[0;36m14\u001b[0m\u001b[0;34m)\u001b[0m\u001b[0;34m\u001b[0m\u001b[0;34m\u001b[0m\u001b[0m\n\u001b[0;32m---> 11\u001b[0;31m \u001b[0mplt\u001b[0m\u001b[0;34m.\u001b[0m\u001b[0msavefig\u001b[0m\u001b[0;34m(\u001b[0m\u001b[0;34m'assets/num_posts_dist_pre.svg'\u001b[0m\u001b[0;34m,\u001b[0m \u001b[0mformat\u001b[0m\u001b[0;34m=\u001b[0m\u001b[0;34m'svg'\u001b[0m\u001b[0;34m)\u001b[0m\u001b[0;34m\u001b[0m\u001b[0;34m\u001b[0m\u001b[0m\n\u001b[0m\u001b[1;32m     12\u001b[0m \u001b[0mplt\u001b[0m\u001b[0;34m.\u001b[0m\u001b[0mshow\u001b[0m\u001b[0;34m(\u001b[0m\u001b[0;34m)\u001b[0m\u001b[0;34m\u001b[0m\u001b[0;34m\u001b[0m\u001b[0m\n",
      "\u001b[0;32m/opt/miniconda3/lib/python3.7/site-packages/matplotlib/pyplot.py\u001b[0m in \u001b[0;36msavefig\u001b[0;34m(*args, **kwargs)\u001b[0m\n\u001b[1;32m    727\u001b[0m \u001b[0;32mdef\u001b[0m \u001b[0msavefig\u001b[0m\u001b[0;34m(\u001b[0m\u001b[0;34m*\u001b[0m\u001b[0margs\u001b[0m\u001b[0;34m,\u001b[0m \u001b[0;34m**\u001b[0m\u001b[0mkwargs\u001b[0m\u001b[0;34m)\u001b[0m\u001b[0;34m:\u001b[0m\u001b[0;34m\u001b[0m\u001b[0;34m\u001b[0m\u001b[0m\n\u001b[1;32m    728\u001b[0m     \u001b[0mfig\u001b[0m \u001b[0;34m=\u001b[0m \u001b[0mgcf\u001b[0m\u001b[0;34m(\u001b[0m\u001b[0;34m)\u001b[0m\u001b[0;34m\u001b[0m\u001b[0;34m\u001b[0m\u001b[0m\n\u001b[0;32m--> 729\u001b[0;31m     \u001b[0mres\u001b[0m \u001b[0;34m=\u001b[0m \u001b[0mfig\u001b[0m\u001b[0;34m.\u001b[0m\u001b[0msavefig\u001b[0m\u001b[0;34m(\u001b[0m\u001b[0;34m*\u001b[0m\u001b[0margs\u001b[0m\u001b[0;34m,\u001b[0m \u001b[0;34m**\u001b[0m\u001b[0mkwargs\u001b[0m\u001b[0;34m)\u001b[0m\u001b[0;34m\u001b[0m\u001b[0;34m\u001b[0m\u001b[0m\n\u001b[0m\u001b[1;32m    730\u001b[0m     \u001b[0mfig\u001b[0m\u001b[0;34m.\u001b[0m\u001b[0mcanvas\u001b[0m\u001b[0;34m.\u001b[0m\u001b[0mdraw_idle\u001b[0m\u001b[0;34m(\u001b[0m\u001b[0;34m)\u001b[0m   \u001b[0;31m# need this if 'transparent=True' to reset colors\u001b[0m\u001b[0;34m\u001b[0m\u001b[0;34m\u001b[0m\u001b[0m\n\u001b[1;32m    731\u001b[0m     \u001b[0;32mreturn\u001b[0m \u001b[0mres\u001b[0m\u001b[0;34m\u001b[0m\u001b[0;34m\u001b[0m\u001b[0m\n",
      "\u001b[0;32m/opt/miniconda3/lib/python3.7/site-packages/matplotlib/figure.py\u001b[0m in \u001b[0;36msavefig\u001b[0;34m(self, fname, transparent, **kwargs)\u001b[0m\n\u001b[1;32m   2178\u001b[0m             \u001b[0mself\u001b[0m\u001b[0;34m.\u001b[0m\u001b[0mpatch\u001b[0m\u001b[0;34m.\u001b[0m\u001b[0mset_visible\u001b[0m\u001b[0;34m(\u001b[0m\u001b[0mframeon\u001b[0m\u001b[0;34m)\u001b[0m\u001b[0;34m\u001b[0m\u001b[0;34m\u001b[0m\u001b[0m\n\u001b[1;32m   2179\u001b[0m \u001b[0;34m\u001b[0m\u001b[0m\n\u001b[0;32m-> 2180\u001b[0;31m         \u001b[0mself\u001b[0m\u001b[0;34m.\u001b[0m\u001b[0mcanvas\u001b[0m\u001b[0;34m.\u001b[0m\u001b[0mprint_figure\u001b[0m\u001b[0;34m(\u001b[0m\u001b[0mfname\u001b[0m\u001b[0;34m,\u001b[0m \u001b[0;34m**\u001b[0m\u001b[0mkwargs\u001b[0m\u001b[0;34m)\u001b[0m\u001b[0;34m\u001b[0m\u001b[0;34m\u001b[0m\u001b[0m\n\u001b[0m\u001b[1;32m   2181\u001b[0m \u001b[0;34m\u001b[0m\u001b[0m\n\u001b[1;32m   2182\u001b[0m         \u001b[0;32mif\u001b[0m \u001b[0mframeon\u001b[0m\u001b[0;34m:\u001b[0m\u001b[0;34m\u001b[0m\u001b[0;34m\u001b[0m\u001b[0m\n",
      "\u001b[0;32m/opt/miniconda3/lib/python3.7/site-packages/matplotlib/backend_bases.py\u001b[0m in \u001b[0;36mprint_figure\u001b[0;34m(self, filename, dpi, facecolor, edgecolor, orientation, format, bbox_inches, **kwargs)\u001b[0m\n\u001b[1;32m   2089\u001b[0m                     \u001b[0morientation\u001b[0m\u001b[0;34m=\u001b[0m\u001b[0morientation\u001b[0m\u001b[0;34m,\u001b[0m\u001b[0;34m\u001b[0m\u001b[0;34m\u001b[0m\u001b[0m\n\u001b[1;32m   2090\u001b[0m                     \u001b[0mbbox_inches_restore\u001b[0m\u001b[0;34m=\u001b[0m\u001b[0m_bbox_inches_restore\u001b[0m\u001b[0;34m,\u001b[0m\u001b[0;34m\u001b[0m\u001b[0;34m\u001b[0m\u001b[0m\n\u001b[0;32m-> 2091\u001b[0;31m                     **kwargs)\n\u001b[0m\u001b[1;32m   2092\u001b[0m             \u001b[0;32mfinally\u001b[0m\u001b[0;34m:\u001b[0m\u001b[0;34m\u001b[0m\u001b[0;34m\u001b[0m\u001b[0m\n\u001b[1;32m   2093\u001b[0m                 \u001b[0;32mif\u001b[0m \u001b[0mbbox_inches\u001b[0m \u001b[0;32mand\u001b[0m \u001b[0mrestore_bbox\u001b[0m\u001b[0;34m:\u001b[0m\u001b[0;34m\u001b[0m\u001b[0;34m\u001b[0m\u001b[0m\n",
      "\u001b[0;32m/opt/miniconda3/lib/python3.7/site-packages/matplotlib/backends/backend_svg.py\u001b[0m in \u001b[0;36mprint_svg\u001b[0;34m(self, filename, *args, **kwargs)\u001b[0m\n\u001b[1;32m   1188\u001b[0m \u001b[0;34m\u001b[0m\u001b[0m\n\u001b[1;32m   1189\u001b[0m     \u001b[0;32mdef\u001b[0m \u001b[0mprint_svg\u001b[0m\u001b[0;34m(\u001b[0m\u001b[0mself\u001b[0m\u001b[0;34m,\u001b[0m \u001b[0mfilename\u001b[0m\u001b[0;34m,\u001b[0m \u001b[0;34m*\u001b[0m\u001b[0margs\u001b[0m\u001b[0;34m,\u001b[0m \u001b[0;34m**\u001b[0m\u001b[0mkwargs\u001b[0m\u001b[0;34m)\u001b[0m\u001b[0;34m:\u001b[0m\u001b[0;34m\u001b[0m\u001b[0;34m\u001b[0m\u001b[0m\n\u001b[0;32m-> 1190\u001b[0;31m         \u001b[0;32mwith\u001b[0m \u001b[0mcbook\u001b[0m\u001b[0;34m.\u001b[0m\u001b[0mopen_file_cm\u001b[0m\u001b[0;34m(\u001b[0m\u001b[0mfilename\u001b[0m\u001b[0;34m,\u001b[0m \u001b[0;34m\"w\"\u001b[0m\u001b[0;34m,\u001b[0m \u001b[0mencoding\u001b[0m\u001b[0;34m=\u001b[0m\u001b[0;34m\"utf-8\"\u001b[0m\u001b[0;34m)\u001b[0m \u001b[0;32mas\u001b[0m \u001b[0mfh\u001b[0m\u001b[0;34m:\u001b[0m\u001b[0;34m\u001b[0m\u001b[0;34m\u001b[0m\u001b[0m\n\u001b[0m\u001b[1;32m   1191\u001b[0m \u001b[0;34m\u001b[0m\u001b[0m\n\u001b[1;32m   1192\u001b[0m             \u001b[0mfilename\u001b[0m \u001b[0;34m=\u001b[0m \u001b[0mgetattr\u001b[0m\u001b[0;34m(\u001b[0m\u001b[0mfh\u001b[0m\u001b[0;34m,\u001b[0m \u001b[0;34m'name'\u001b[0m\u001b[0;34m,\u001b[0m \u001b[0;34m''\u001b[0m\u001b[0;34m)\u001b[0m\u001b[0;34m\u001b[0m\u001b[0;34m\u001b[0m\u001b[0m\n",
      "\u001b[0;32m/opt/miniconda3/lib/python3.7/contextlib.py\u001b[0m in \u001b[0;36m__enter__\u001b[0;34m(self)\u001b[0m\n\u001b[1;32m    110\u001b[0m         \u001b[0;32mdel\u001b[0m \u001b[0mself\u001b[0m\u001b[0;34m.\u001b[0m\u001b[0margs\u001b[0m\u001b[0;34m,\u001b[0m \u001b[0mself\u001b[0m\u001b[0;34m.\u001b[0m\u001b[0mkwds\u001b[0m\u001b[0;34m,\u001b[0m \u001b[0mself\u001b[0m\u001b[0;34m.\u001b[0m\u001b[0mfunc\u001b[0m\u001b[0;34m\u001b[0m\u001b[0;34m\u001b[0m\u001b[0m\n\u001b[1;32m    111\u001b[0m         \u001b[0;32mtry\u001b[0m\u001b[0;34m:\u001b[0m\u001b[0;34m\u001b[0m\u001b[0;34m\u001b[0m\u001b[0m\n\u001b[0;32m--> 112\u001b[0;31m             \u001b[0;32mreturn\u001b[0m \u001b[0mnext\u001b[0m\u001b[0;34m(\u001b[0m\u001b[0mself\u001b[0m\u001b[0;34m.\u001b[0m\u001b[0mgen\u001b[0m\u001b[0;34m)\u001b[0m\u001b[0;34m\u001b[0m\u001b[0;34m\u001b[0m\u001b[0m\n\u001b[0m\u001b[1;32m    113\u001b[0m         \u001b[0;32mexcept\u001b[0m \u001b[0mStopIteration\u001b[0m\u001b[0;34m:\u001b[0m\u001b[0;34m\u001b[0m\u001b[0;34m\u001b[0m\u001b[0m\n\u001b[1;32m    114\u001b[0m             \u001b[0;32mraise\u001b[0m \u001b[0mRuntimeError\u001b[0m\u001b[0;34m(\u001b[0m\u001b[0;34m\"generator didn't yield\"\u001b[0m\u001b[0;34m)\u001b[0m \u001b[0;32mfrom\u001b[0m \u001b[0;32mNone\u001b[0m\u001b[0;34m\u001b[0m\u001b[0;34m\u001b[0m\u001b[0m\n",
      "\u001b[0;32m/opt/miniconda3/lib/python3.7/site-packages/matplotlib/cbook/__init__.py\u001b[0m in \u001b[0;36mopen_file_cm\u001b[0;34m(path_or_file, mode, encoding)\u001b[0m\n\u001b[1;32m    445\u001b[0m \u001b[0;32mdef\u001b[0m \u001b[0mopen_file_cm\u001b[0m\u001b[0;34m(\u001b[0m\u001b[0mpath_or_file\u001b[0m\u001b[0;34m,\u001b[0m \u001b[0mmode\u001b[0m\u001b[0;34m=\u001b[0m\u001b[0;34m\"r\"\u001b[0m\u001b[0;34m,\u001b[0m \u001b[0mencoding\u001b[0m\u001b[0;34m=\u001b[0m\u001b[0;32mNone\u001b[0m\u001b[0;34m)\u001b[0m\u001b[0;34m:\u001b[0m\u001b[0;34m\u001b[0m\u001b[0;34m\u001b[0m\u001b[0m\n\u001b[1;32m    446\u001b[0m     \u001b[0;34mr\"\"\"Pass through file objects and context-manage `.PathLike`\\s.\"\"\"\u001b[0m\u001b[0;34m\u001b[0m\u001b[0;34m\u001b[0m\u001b[0m\n\u001b[0;32m--> 447\u001b[0;31m     \u001b[0mfh\u001b[0m\u001b[0;34m,\u001b[0m \u001b[0mopened\u001b[0m \u001b[0;34m=\u001b[0m \u001b[0mto_filehandle\u001b[0m\u001b[0;34m(\u001b[0m\u001b[0mpath_or_file\u001b[0m\u001b[0;34m,\u001b[0m \u001b[0mmode\u001b[0m\u001b[0;34m,\u001b[0m \u001b[0;32mTrue\u001b[0m\u001b[0;34m,\u001b[0m \u001b[0mencoding\u001b[0m\u001b[0;34m)\u001b[0m\u001b[0;34m\u001b[0m\u001b[0;34m\u001b[0m\u001b[0m\n\u001b[0m\u001b[1;32m    448\u001b[0m     \u001b[0;32mif\u001b[0m \u001b[0mopened\u001b[0m\u001b[0;34m:\u001b[0m\u001b[0;34m\u001b[0m\u001b[0;34m\u001b[0m\u001b[0m\n\u001b[1;32m    449\u001b[0m         \u001b[0;32mwith\u001b[0m \u001b[0mfh\u001b[0m\u001b[0;34m:\u001b[0m\u001b[0;34m\u001b[0m\u001b[0;34m\u001b[0m\u001b[0m\n",
      "\u001b[0;32m/opt/miniconda3/lib/python3.7/site-packages/matplotlib/cbook/__init__.py\u001b[0m in \u001b[0;36mto_filehandle\u001b[0;34m(fname, flag, return_opened, encoding)\u001b[0m\n\u001b[1;32m    430\u001b[0m             \u001b[0mfh\u001b[0m \u001b[0;34m=\u001b[0m \u001b[0mbz2\u001b[0m\u001b[0;34m.\u001b[0m\u001b[0mBZ2File\u001b[0m\u001b[0;34m(\u001b[0m\u001b[0mfname\u001b[0m\u001b[0;34m,\u001b[0m \u001b[0mflag\u001b[0m\u001b[0;34m)\u001b[0m\u001b[0;34m\u001b[0m\u001b[0;34m\u001b[0m\u001b[0m\n\u001b[1;32m    431\u001b[0m         \u001b[0;32melse\u001b[0m\u001b[0;34m:\u001b[0m\u001b[0;34m\u001b[0m\u001b[0;34m\u001b[0m\u001b[0m\n\u001b[0;32m--> 432\u001b[0;31m             \u001b[0mfh\u001b[0m \u001b[0;34m=\u001b[0m \u001b[0mopen\u001b[0m\u001b[0;34m(\u001b[0m\u001b[0mfname\u001b[0m\u001b[0;34m,\u001b[0m \u001b[0mflag\u001b[0m\u001b[0;34m,\u001b[0m \u001b[0mencoding\u001b[0m\u001b[0;34m=\u001b[0m\u001b[0mencoding\u001b[0m\u001b[0;34m)\u001b[0m\u001b[0;34m\u001b[0m\u001b[0;34m\u001b[0m\u001b[0m\n\u001b[0m\u001b[1;32m    433\u001b[0m         \u001b[0mopened\u001b[0m \u001b[0;34m=\u001b[0m \u001b[0;32mTrue\u001b[0m\u001b[0;34m\u001b[0m\u001b[0;34m\u001b[0m\u001b[0m\n\u001b[1;32m    434\u001b[0m     \u001b[0;32melif\u001b[0m \u001b[0mhasattr\u001b[0m\u001b[0;34m(\u001b[0m\u001b[0mfname\u001b[0m\u001b[0;34m,\u001b[0m \u001b[0;34m'seek'\u001b[0m\u001b[0;34m)\u001b[0m\u001b[0;34m:\u001b[0m\u001b[0;34m\u001b[0m\u001b[0;34m\u001b[0m\u001b[0m\n",
      "\u001b[0;31mFileNotFoundError\u001b[0m: [Errno 2] No such file or directory: 'assets/num_posts_dist_pre.svg'"
     ]
    },
    {
     "data": {
      "image/png": "[encoded data removed]",
      "text/plain": [
       "<Figure size 1440x360 with 2 Axes>"
      ]
     },
     "metadata": {
      "needs_background": "light"
     },
     "output_type": "display_data"
    }
   ],
   "source": [
    "df_dist = df.groupby(['username']).count()[['postsCount']]\n",
    "fig, axes = plt.subplots(1, 2, figsize=(20, 5))\n",
    "sns.distplot(df_dist, ax=axes[0], bins=200, kde=False, rug=True)\n",
    "sns.distplot(df_dist, ax=axes[1], bins=3000, kde=False, rug=True)\n",
    "axes[0].set_ylabel(\"Users with X Scraped Posts\", size=14)\n",
    "axes[0].set_title(\"Full distribution\")\n",
    "axes[1].set_xlim(0, 50)\n",
    "axes[1].set_title(\"Enlarged (0–50 posts)\")\n",
    "fig.suptitle('Distribution of Number of Posts', size=16)\n",
    "fig.text(0.5, 0.04, 'X: Number of Posts', ha='center', size=14)\n",
    "plt.savefig('assets/num_posts_dist_pre.svg', format='svg')\n",
    "plt.show()"
   ]
  },
  {
   "cell_type": "code",
   "execution_count": null,
   "metadata": {
    "scrolled": true
   },
   "outputs": [],
   "source": [
    "df_dist = df[['likesCount']]\n",
    "fig, axes = plt.subplots(1, 2, figsize=(20, 5))\n",
    "sns.distplot(df_dist, ax=axes[0], bins=200, kde=False, rug=True)\n",
    "sns.distplot(df_dist, ax=axes[1], bins=1000, kde=False)\n",
    "axes[0].set_ylabel(\"Posts with X Likes\", size=14)\n",
    "axes[0].set_title(\"Full distribution\")\n",
    "axes[1].set_title(\"Enlarged (0–100k likes)\")\n",
    "axes[1].set_xlim(0, 1e5)\n",
    "fig.suptitle('Distribution of Post Likes', size=16)\n",
    "fig.text(0.5, 0, 'X: Number of Likes', ha='center', size=14)\n",
    "plt.savefig('assets/likes_dist_pre.svg', format='svg')\n",
    "plt.show()"
   ]
  },
  {
   "cell_type": "markdown",
   "metadata": {},
   "source": [
    "We see, from the distributions, that there are posts whose like counts are abnormally low or high. We want to remove these, as they are likely outliers dependent on factors our prediction model cannot account for and would, therefore, skew our results."
   ]
  },
  {
   "cell_type": "code",
   "execution_count": null,
   "metadata": {},
   "outputs": [],
   "source": [
    "df = df[df['likesCount'].between(df['likesCount'].quantile(0.005), df['likesCount'].quantile(0.995))]"
   ]
  },
  {
   "cell_type": "markdown",
   "metadata": {},
   "source": [
    "We now have 47259 posts from 355 users. Let's double-check the distribution."
   ]
  },
  {
   "cell_type": "code",
   "execution_count": null,
   "metadata": {
    "scrolled": true
   },
   "outputs": [],
   "source": [
    "df_dist = df[['likesCount']]\n",
    "fig, axes = plt.subplots(1, 2, figsize=(20, 5))\n",
    "sns.distplot(df_dist, ax=axes[0], bins=200, kde=False, rug=True)\n",
    "sns.distplot(df_dist, ax=axes[1], bins=1000, kde=False)\n",
    "axes[0].set_ylabel(\"Posts with X Likes\", size=14)\n",
    "axes[0].set_title(\"Full distribution\")\n",
    "axes[1].set_title(\"Enlarged (0–1e5)\")\n",
    "axes[1].set_xlim(0, 1e5)\n",
    "fig.suptitle('Distribution of Post Likes', size=16)\n",
    "fig.text(0.5, 0, 'X: Number of Likes', ha='center', size=14)\n",
    "plt.savefig('assets/likes_dist_post.svg', format='svg')\n",
    "plt.show()"
   ]
  },
  {
   "cell_type": "markdown",
   "metadata": {},
   "source": [
    "Better. Now, let's remove users with abnormally low or high numbers of scraped posts to ensure a more even distribution. Low numbers of scraped posts are occasionally the result of scraping problems. Rather than addressing these issues case-by-case, we'll simply drop users with too few (and too many) posts. Why this is necessary will become clear later."
   ]
  },
  {
   "cell_type": "code",
   "execution_count": null,
   "metadata": {},
   "outputs": [],
   "source": [
    "df_dist = df.groupby(['username']).count()[['postsCount']] # group by scraped posts count\n",
    "df_dist = df_dist.loc[(10 < df_dist['postsCount']) & (df_dist['postsCount'] < 1000)] # filter by number of posts\n",
    "usernames = df_dist.index.tolist() # retrieve users with number of scraped posts in acceptable range\n",
    "valid_users = df['username'].map(lambda x: x in usernames) # create filter condition\n",
    "df = df[valid_users] # filter original dataframe"
   ]
  },
  {
   "cell_type": "markdown",
   "metadata": {},
   "source": [
    "Again, let's double-check our distribution. We now have 43167 posts from 334 users."
   ]
  },
  {
   "cell_type": "code",
   "execution_count": null,
   "metadata": {
    "scrolled": true
   },
   "outputs": [],
   "source": [
    "df_dist = df.groupby(['username']).count()[['postsCount']]\n",
    "fig, axes = plt.subplots(1, 2, figsize=(20, 5))\n",
    "sns.distplot(df_dist, ax=axes[0], bins=200, kde=False, rug=True)\n",
    "sns.distplot(df_dist, ax=axes[1], bins=3000, kde=False, rug=True)\n",
    "axes[0].set_ylabel(\"Users with X Scraped Posts\", size=14)\n",
    "axes[0].set_title(\"Full distribution\")\n",
    "axes[1].set_xlim(0, 50)\n",
    "axes[1].set_title(\"Enlarged (0–50 posts)\")\n",
    "fig.suptitle('Distribution of Number of Posts', size=16)\n",
    "fig.text(0.5, 0.04, 'X: Number of Posts', ha='center', size=14)\n",
    "plt.savefig('assets/num_posts_dist_post.svg', format='svg')\n",
    "plt.show()"
   ]
  },
  {
   "cell_type": "markdown",
   "metadata": {},
   "source": [
    "Great. The next step is visualizing trends within individual users. This is key to accounting for potential biases before adding features. To do this, we will examine 10 users that demonstrate the possible trends for users."
   ]
  },
  {
   "cell_type": "code",
   "execution_count": null,
   "metadata": {
    "scrolled": false
   },
   "outputs": [],
   "source": [
    "df['normalizedTimestamp'] = df['timestamp'].map(lambda x: x.to_pydatetime().timestamp()) # datetime timestamp column\n",
    "artists = np.array(['lilnasx', # users chosen because of their trends\n",
    "                    'jonasbrothers',\n",
    "                    'weareone.exo',\n",
    "                    'travisscott',\n",
    "                    'twicetagram',\n",
    "                    'bighit_ent',\n",
    "                    'nickyjampr',\n",
    "                    'mariliamendoncacantora',\n",
    "                    'theweeknd',\n",
    "                    'dababy']).reshape((5, 2))\n",
    "fig, axes = plt.subplots(5, 2, figsize=(20, 20))\n",
    "for i in range(5): # plot likes of posts over time for each artist\n",
    "    for j in range(2):\n",
    "        artist = artists[i][j]\n",
    "        df_artist = df[df['username']==artist][['normalizedTimestamp', 'likesCount']]\n",
    "        sns.regplot(x='normalizedTimestamp', y='likesCount', data=df_artist, ax=axes[i][j])\n",
    "        axes[i][j].set_title(\"{}'s Likes over Time\".format(artist))\n",
    "        axes[i][j].set_xlabel(\"\")\n",
    "        axes[i][j].set_ylabel(\"\")\n",
    "fig.text(0.5, 0.09, \"X: Timestamp\", ha='center', size=14)\n",
    "fig.text(0.07, 0.5, \"Number of Likes for Post at Time X\", rotation='vertical', va='center', size=14)\n",
    "fig.suptitle(\"Likes of Users over Time\", y=0.91, size=16)\n",
    "plt.savefig('assets/user_trends.svg', format='svg')\n",
    "plt.show()"
   ]
  },
  {
   "cell_type": "markdown",
   "metadata": {},
   "source": [
    "Examining trends in individual users, we see that there are reasons beyond just the properties of posts that affect number of likes. Assuming the content of posts is independent of time (composition of posts is somewhat constant over time), there are a few possible explanations for this larger trend:\n",
    "\n",
    "- posts receive fewer likes during times when the user is posting with higher frequency (lilnasx, weareone.exo, dababy)\n",
    "- users with irregular posting habits receive fewer likes as time increases (weareone.exo, theweeknd)\n",
    "- changes in popularity of the artist over time affects the number of likes on their posts (lilnasx, jonasbrothers, travisscott, twicetagram, nickyjampr, mariliamendoncacantora, dababy)\n",
    "\n",
    "We want to consider the influences of these trends before training our model. To do this, let's add a column containing the predicted number of likes at the post's timestamp. For a single post, this is given by\n",
    "\n",
    "$$\n",
    "predictedLikes = m\\cdot(normalizedTimestamp) + b\n",
    "$$\n",
    "\n",
    "where *m* and *b* are the slope and constant, respectively, obtained from running linear regression on the normalizedTimestamp vs. likesCount data of the user. In this step, we make the huge assumption that there always exists a generally linear trend between time and the numbers of likes a user receives on their posts.\n",
    "\n",
    "Also, to visualize the effect of different features on likesCount in a standardized manner, we will use the following metric\n",
    "\n",
    "$$\n",
    "\\frac{likesCount}{(m(normalizedTimestamp) + b)}\n",
    "$$"
   ]
  },
  {
   "cell_type": "code",
   "execution_count": null,
   "metadata": {},
   "outputs": [],
   "source": [
    "regressions = {}\n",
    "for username in df['username'].unique().tolist(): # calculate regression for each artist\n",
    "    df_artist = df[df['username'] == username]\n",
    "    X = df_artist['normalizedTimestamp'].to_numpy().reshape(-1, 1)\n",
    "    y = df_artist['likesCount'].to_numpy()\n",
    "    regr = LinearRegression().fit(X, y)\n",
    "    regressions[username] = regr\n",
    "for idx, row in df.iterrows(): # append normalized likes to each post\n",
    "    username = row['username']\n",
    "    likes = row['likesCount']\n",
    "    timestamp = row['normalizedTimestamp']\n",
    "    prediction = regressions[username].predict([[timestamp]])[0]\n",
    "    df.at[idx, 'normalizedLikesCount'] = likes / prediction\n",
    "    df.at[idx, 'predictedLikes'] = prediction"
   ]
  },
  {
   "cell_type": "markdown",
   "metadata": {},
   "source": [
    "Now that we've performed the essential checks regarding our data, let's handle a few more issues before moving onto feature analysis."
   ]
  },
  {
   "cell_type": "markdown",
   "metadata": {},
   "source": [
    "The next subset of posts to drop are ones from users who aren't verified. We do this because we found that only a small percentage of users in our dataset are unverified, so we trade off some data for consistency. Below is the justification."
   ]
  },
  {
   "cell_type": "code",
   "execution_count": null,
   "metadata": {},
   "outputs": [],
   "source": [
    "df_ver = df[df['verified'] == False] # record unverified counts\n",
    "unverified_posts = df_ver.shape[0]\n",
    "unverified_users = df_ver['username'].unique().shape[0]\n",
    "total_posts = df.shape[0] # record total counts\n",
    "total_users = df['username'].unique().shape[0]\n",
    "# calculate posts ratios\n",
    "r1 = unverified_posts / total_posts * 100\n",
    "# calculate users ratios\n",
    "r2 = unverified_users / total_users * 100\n",
    "# print out non-verified ratio\n",
    "print(\"Only %{r1:.2f} of all posts from %{r2:.2f} of all users are from non-verified accounts.\".format(r1=r1, r2=r2))"
   ]
  },
  {
   "cell_type": "markdown",
   "metadata": {},
   "source": [
    "And now, let's proceed to drop those rows. We are left with 42165 posts from 323 users."
   ]
  },
  {
   "cell_type": "code",
   "execution_count": null,
   "metadata": {},
   "outputs": [],
   "source": [
    "df = df[df['verified'] == True]"
   ]
  },
  {
   "cell_type": "markdown",
   "metadata": {},
   "source": [
    "## Features\n",
    "Here, we add features that we will train our prediction model on. We also provide justifications for the features we select."
   ]
  },
  {
   "cell_type": "markdown",
   "metadata": {},
   "source": [
    "To start off, we need a caption length column, as we believe caption length may potentially influence a post's number of likes. This column will hold the number of characters in each post's caption (0 if no caption)."
   ]
  },
  {
   "cell_type": "code",
   "execution_count": null,
   "metadata": {},
   "outputs": [],
   "source": [
    "df['captionLength'] = df['firstComment'].map(lambda x: 0 if x == None else len(x))"
   ]
  },
  {
   "cell_type": "markdown",
   "metadata": {},
   "source": [
    "Next we add three sets of indicator columns, one for the post's time of day, another for the day of the week on which the post was made, and a third for the month during which the post was made."
   ]
  },
  {
   "cell_type": "code",
   "execution_count": null,
   "metadata": {},
   "outputs": [],
   "source": [
    "# time-of-day\n",
    "df['tod'] = df['timestamp'].map(\n",
    "    lambda x: 'early' if 0 <= x.hour < 3 else\n",
    "              'dawn' if 3 <= x.hour < 6 else\n",
    "              'sunrise' if 6 <= x.hour < 9 else\n",
    "              'morning' if 9 <= x.hour < 12 else\n",
    "              'noon' if 12 <= x.hour < 15 else\n",
    "              'afternoon' if 15 <= x.hour < 18 else\n",
    "              'sunset' if 18 <= x.hour < 21 else\n",
    "              'night')\n",
    "df['early'] = df['timestamp'].map(lambda x: 0 <= x.hour < 3) # for training\n",
    "df['dawn'] = df['timestamp'].map(lambda x: 3 <= x.hour < 6)\n",
    "df['sunrise'] = df['timestamp'].map(lambda x: 6 <= x.hour < 9)\n",
    "df['morning'] = df['timestamp'].map(lambda x: 9 <= x.hour < 12)\n",
    "df['noon'] = df['timestamp'].map(lambda x: 12 <= x.hour < 15)\n",
    "df['afternoon'] = df['timestamp'].map(lambda x: 15 <= x.hour < 18)\n",
    "df['sunset'] = df['timestamp'].map(lambda x: 18 <= x.hour < 21)\n",
    "# day-of-week\n",
    "df['dow'] = df['timestamp'].map( # for visualization\n",
    "    lambda x: 'sunday' if x.day_name() == 'Sunday' else\n",
    "              'monday' if x.day_name() == 'Monday' else\n",
    "              'tuesday' if x.day_name() == 'Tuesday' else\n",
    "              'wednesday' if x.day_name() == 'Wednesday' else\n",
    "              'thursday' if x.day_name() == 'Thursday' else\n",
    "              'friday' if x.day_name() == 'Friday' else\n",
    "              'saturday')\n",
    "df['sunday'] = df['timestamp'].map(lambda x: x.day_name() == 'Sunday') # for training\n",
    "df['monday'] = df['timestamp'].map(lambda x: x.day_name() == 'Monday')\n",
    "df['tuesday'] = df['timestamp'].map(lambda x: x.day_name() == 'Tuesday')\n",
    "df['wednesday'] = df['timestamp'].map(lambda x: x.day_name() == 'Wednesday')\n",
    "df['thursday'] = df['timestamp'].map(lambda x: x.day_name() == 'Thursday')\n",
    "df['friday'] = df['timestamp'].map(lambda x: x.day_name() == 'Friday')\n",
    "# month-of-year\n",
    "df['moy'] = df['timestamp'].map( # for visualization\n",
    "    lambda x: 'january' if x.month == 1 else\n",
    "              'february' if x.month == 2 else\n",
    "              'march' if x.month == 3 else\n",
    "              'april' if x.month == 4 else\n",
    "              'may' if x.month == 5 else\n",
    "              'june' if x.month == 6 else\n",
    "              'july' if x.month == 7 else\n",
    "              'august' if x.month == 8 else\n",
    "              'september' if x.month == 9 else\n",
    "              'october' if x.month == 10 else\n",
    "              'november' if x.month == 11 else\n",
    "              'december')\n",
    "df['january'] = df['timestamp'].map(lambda x: x.month == 'January') # for training\n",
    "df['february'] = df['timestamp'].map(lambda x: x.month == 'Febraury')\n",
    "df['march'] = df['timestamp'].map(lambda x: x.month == 'March')\n",
    "df['april'] = df['timestamp'].map(lambda x: x.month == 'April')\n",
    "df['may'] = df['timestamp'].map(lambda x: x.month == 'May')\n",
    "df['june'] = df['timestamp'].map(lambda x: x.month == 'June')\n",
    "df['july'] = df['timestamp'].map(lambda x: x.month == 'July')\n",
    "df['august'] = df['timestamp'].map(lambda x: x.month == 'August')\n",
    "df['september'] = df['timestamp'].map(lambda x: x.month == 'September')\n",
    "df['october'] = df['timestamp'].map(lambda x: x.month == 'October')\n",
    "df['november'] = df['timestamp'].map(lambda x: x.month == 'November')"
   ]
  },
  {
   "cell_type": "markdown",
   "metadata": {},
   "source": [
    "Let's proceed to do some analysis on existing features and show which variables might be worth considering in the machine learning phase."
   ]
  },
  {
   "cell_type": "markdown",
   "metadata": {},
   "source": [
    "### Followers Count\n",
    "\n",
    "We believe that following size may be a factor in determining the number of likes a post will receive. Here, we discover that the average likes-followers ratio decreases in an exponential fashion as following size increases. This suggests that our prediction model may partially be a poly-exponential function of the number of followers (note the logx=True parameter when fitting with seaborn's regplot)."
   ]
  },
  {
   "cell_type": "code",
   "execution_count": null,
   "metadata": {
    "scrolled": true
   },
   "outputs": [],
   "source": [
    "df_fol = df[['username', 'followersCount', 'likesCount']] # extract relevant columns\n",
    "df_fol['likesFollowersRatio'] = df['likesCount'] / df['followersCount'] # column containing likes-followers ratio\n",
    "df_fol = df_fol.groupby('username').mean() # average likes & ratio for users (note: followersCount does not change)\n",
    "df_fol.head(3) # print out df_avgs"
   ]
  },
  {
   "cell_type": "code",
   "execution_count": null,
   "metadata": {
    "scrolled": false
   },
   "outputs": [],
   "source": [
    "# create two plots showing the effect of followers count on likes count\n",
    "fig, axes = plt.subplots(2, 1, figsize=(20, 10), sharex=True)\n",
    "sns.regplot(x=df_fol['followersCount'], y=df_fol['likesCount'], ax=axes[0])\n",
    "sns.regplot(x=df_fol['followersCount'], y=df_fol['likesFollowersRatio'], ax=axes[1], logx=True)\n",
    "axes[0].set_title('Followers Count\\'s Effect on Average Number of Likes')\n",
    "axes[0].set_xlabel('')\n",
    "axes[0].set_ylabel('Average Number of Likes', size=14)\n",
    "axes[1].set_xlim(0, 1e8)\n",
    "axes[1].set_title('Following Size\\'s Effect on Average Likes-Followers Ratio')\n",
    "axes[1].set_ylabel('Average Likes-Follower Ratio', size=14)\n",
    "plt.xlabel('Number of Followers', size=14)\n",
    "fig.suptitle('Effect of Followers Size on Average Number of Likes (scaled for 0-10 million followers)', y=0.95, fontsize=16)\n",
    "plt.savefig('assets/follower_feature.svg', format='svg')\n",
    "plt.show()"
   ]
  },
  {
   "cell_type": "markdown",
   "metadata": {},
   "source": [
    "Let's double check this relationship by visualizing the relationship on the logarithm of the data. We should expect a negative slope."
   ]
  },
  {
   "cell_type": "code",
   "execution_count": null,
   "metadata": {
    "scrolled": true
   },
   "outputs": [],
   "source": [
    "# show the same two graphs at a smaller scale\n",
    "plt.figure(figsize=(20, 5))\n",
    "sns.regplot(x=df_fol['followersCount'].map(np.log), y=df_fol['likesFollowersRatio'], robust=True)\n",
    "plt.title('Effect of Following Size on a Average Number of Likes (logarithmic relation)')\n",
    "plt.xlabel('log(Number of followers)')\n",
    "plt.ylabel('Average Likes-Followers Ratio')\n",
    "plt.savefig('assets/follower_feature_log.svg', format='svg')\n",
    "plt.show()"
   ]
  },
  {
   "cell_type": "markdown",
   "metadata": {},
   "source": [
    "There is still some minor curvature in the data, suggesting we may be observing a poly-exponential relation between followers count and the likes-to-followers ratio. This means that the relation between following size and number of likes on posts may also be poly-exponential."
   ]
  },
  {
   "cell_type": "markdown",
   "metadata": {},
   "source": [
    "### Caption Length\n",
    "\n",
    "We believe the length of a post's caption may influence how many likes it receives. In this section, we discovered no strong relation between caption length and likes count for a post, but a slightly negative exponential relation (revealed with Lowess regression) may exist. Unfortunately, there's too much noise in the data to be certain. This suggests that caption length should be considered in the machine learning phase, but it is unlikely to contribute to the prediction task, and we may remove it from our final list of parameters."
   ]
  },
  {
   "cell_type": "code",
   "execution_count": null,
   "metadata": {
    "scrolled": true
   },
   "outputs": [],
   "source": [
    "df_cap = df[['captionLength', 'normalizedLikesCount',\"likesCount\"]] # group by caption length\n",
    "df_cap = df_cap.groupby('captionLength').mean().reset_index()\n",
    "df_cap.head(3) # print out df_cap"
   ]
  },
  {
   "cell_type": "code",
   "execution_count": null,
   "metadata": {
    "scrolled": false
   },
   "outputs": [],
   "source": [
    "# plot the scatter and show logarithmic relation, note that the first row had to be dropped\n",
    "fig, axes = plt.subplots(2, 1, figsize=(20, 10), sharex=True)\n",
    "sns.regplot(x=df_cap[1:]['captionLength'], y=df_cap[1:]['likesCount'], lowess=True, ax=axes[0])\n",
    "sns.regplot(x=df_cap[1:]['captionLength'], y=df_cap[1:]['normalizedLikesCount'], lowess=True, ax=axes[1])\n",
    "axes[0].set_ylabel('Average Likes Count', size=14)\n",
    "axes[0].set_xlabel('')\n",
    "axes[1].set_ylabel('Average Likes-Followers Ratio', size = 14)\n",
    "fig.suptitle(\"Effect of Caption Length on Average Number of Likes\", y=0.95, size=16)\n",
    "plt.xlabel('Caption Length (Character Count)', size=14)\n",
    "plt.savefig('assets/caption_feature.svg', format='svg')\n",
    "plt.show()"
   ]
  },
  {
   "cell_type": "markdown",
   "metadata": {},
   "source": [
    "Let's double-check this relationship by graphing the logarithmic relationship."
   ]
  },
  {
   "cell_type": "code",
   "execution_count": null,
   "metadata": {},
   "outputs": [],
   "source": [
    "plt.figure(figsize=(20, 5))\n",
    "sns.regplot(x=df_cap[1:]['captionLength'].map(np.log), y=df_cap[1:]['normalizedLikesCount'], robust=True)\n",
    "plt.title('Effect of Caption Length on Average Likes (logarithmic relation)', fontsize=16)\n",
    "plt.xlabel('log(Caption Length)')\n",
    "plt.ylabel('Normalized Likes Count')\n",
    "plt.savefig('assets/caption_feature_log.svg', format='svg')\n",
    "plt.show()"
   ]
  },
  {
   "cell_type": "markdown",
   "metadata": {},
   "source": [
    "An small negative trend can be observed in this graph, but it is insufficient to make any claims."
   ]
  },
  {
   "cell_type": "markdown",
   "metadata": {},
   "source": [
    "### Time-of-Day\n",
    "We believe that the time-of-day when the post is made may effect the number of likes it receives. In this section, we discovered that certain times (UTC) have higher average normalized likes, but most posts tend to be made during other times. The trends discovered suggest that using a waking/sleeping hour indicator may be a good alternative to dividing the day up into three hours chunks."
   ]
  },
  {
   "cell_type": "code",
   "execution_count": null,
   "metadata": {
    "scrolled": true
   },
   "outputs": [],
   "source": [
    "todorder = ['early', 'dawn', 'sunrise', 'morning', 'noon', 'afternoon', 'sunset', 'night']\n",
    "todtimes = ['0:00-2:59', '3:00-5:59', '6:00-8:59', '9:00-11:59', '12:00-14:59', '15:00-17:59', '18:00-20:59', '21:00-23:59']\n",
    "posts = [df[df['tod'] == tod].shape[0] for tod in todorder]\n",
    "avg_likes = [df[df['tod'] == tod][['tod', 'likesCount']].groupby('tod').mean()['likesCount'][0] for tod in todorder]"
   ]
  },
  {
   "cell_type": "code",
   "execution_count": null,
   "metadata": {},
   "outputs": [],
   "source": [
    "# plot the effect of time of day on number of posts/likes\n",
    "fig, axes = plt.subplots(2, 1, figsize=(20, 10), sharex=True)\n",
    "sns.barplot(x=todorder, y=avg_likes, ax=axes[0])\n",
    "sns.barplot(x=[tim for tim in todtimes], y=posts, ax=axes[1])\n",
    "plt.xlabel('Time of Post (UTC)', size=14)\n",
    "axes[0].set_ylabel('Average Likes Count', size=14)\n",
    "axes[0].set_ylim(3.5e5, 4.7e5)\n",
    "axes[1].set_ylabel('Number of Posts', size=14)\n",
    "axes[1].set_ylim(1500, 8500)\n",
    "fig.suptitle('Effect of Time-of-Day on Number of Posts & Likes', y=0.92, size=16)\n",
    "plt.savefig('assets/time_of_day_feature.svg', format='svg')\n",
    "plt.show()"
   ]
  },
  {
   "cell_type": "markdown",
   "metadata": {},
   "source": [
    "### Day-of-Week\n",
    "We believe that the day-of-week when the post was made was may effect the number of likes it receives. In this section, we discovered that the normalized likes value tends to be higher on the weekend, but the number of posts throughout the week remains relatively constant. This suggests that instead of using a day of week indicator, it may be worth using simply a weekday/weekend indicator."
   ]
  },
  {
   "cell_type": "code",
   "execution_count": null,
   "metadata": {},
   "outputs": [],
   "source": [
    "doworder = ['sunday', 'monday', 'tuesday', 'wednesday', 'thursday', 'friday', 'saturday']\n",
    "posts = [df[df['dow'] == dow].shape[0] for dow in doworder]\n",
    "avg_likes = [df[df['dow'] == dow][['dow', 'likesCount']].groupby('dow').mean()['likesCount'][0] for dow in doworder]"
   ]
  },
  {
   "cell_type": "code",
   "execution_count": null,
   "metadata": {},
   "outputs": [],
   "source": [
    "# plot the effect of day of week on the number of posts/likes\n",
    "fig, axes = plt.subplots(2, 1, figsize=(20, 10), sharex=True)\n",
    "sns.barplot(x=doworder, y=avg_likes, ax=axes[0])\n",
    "sns.barplot(x=[dow.title() for dow in doworder], y=posts, ax=axes[1])\n",
    "plt.xlabel('Day of Post', size=14)\n",
    "axes[0].set_ylabel('Average Likes Count', size=14)\n",
    "axes[0].set_ylim(3.7e5, 4.3e5)\n",
    "axes[1].set_ylabel('Number of Posts', size=14)\n",
    "axes[1].set_ylim(5000, 7000)\n",
    "fig.suptitle('Effect of Day-of-Week on Number of Posts & Likes', y=0.92, size=16)\n",
    "plt.savefig('assets/day_of_week_feature.svg', format='svg')\n",
    "plt.show()"
   ]
  },
  {
   "cell_type": "markdown",
   "metadata": {},
   "source": [
    "### Month-of-Year\n",
    "We believe that the month in which when the post was made was may effect the number of likes it receives. In this section, we discovered"
   ]
  },
  {
   "cell_type": "code",
   "execution_count": null,
   "metadata": {},
   "outputs": [],
   "source": [
    "moyorder = ['january', 'february', 'march', 'april', 'may', 'june', 'july', 'august', 'september', 'october', 'november', 'december']\n",
    "posts = [df[df['moy'] == moy].shape[0] for moy in moyorder]\n",
    "avg_likes = [df[df['moy'] == moy][['moy', 'likesCount']].groupby('moy').mean()['likesCount'][0] for moy in moyorder]"
   ]
  },
  {
   "cell_type": "code",
   "execution_count": null,
   "metadata": {
    "scrolled": false
   },
   "outputs": [],
   "source": [
    "# plot the effect of month of year on the number of posts/likes\n",
    "fig, axes = plt.subplots(2, 1, figsize=(20, 10), sharex=True)\n",
    "sns.barplot(x=moyorder, y=avg_likes, ax=axes[0])\n",
    "sns.barplot(x=[moy.title() for moy in moyorder], y=posts, ax=axes[1])\n",
    "plt.xlabel('Month of Post')\n",
    "axes[0].set_ylabel('Average Likes Count', size=14)\n",
    "axes[0].set_ylim(3.4e5, 4.5e5)\n",
    "axes[1].set_xlabel\n",
    "axes[1].set_ylabel('Number of Posts', size=14)\n",
    "fig.suptitle('Effect of Month-of-Year on Number of Posts & Likes', y=0.92, size=16)\n",
    "plt.savefig('assets/month_of_year.svg', format='svg')\n",
    "plt.show()"
   ]
  },
  {
   "cell_type": "markdown",
   "metadata": {},
   "source": [
    "### NLP\n",
    "We believe that the content of a post's caption affects how many likes it will receive. In this section, we use the bag-of-words technique to add NLP features for our machine learning phase."
   ]
  },
  {
   "cell_type": "code",
   "execution_count": null,
   "metadata": {
    "scrolled": false
   },
   "outputs": [],
   "source": [
    "captions = df['firstComment'].map(lambda x: \"\" if x is None else x).tolist()\n",
    "df = df.drop(columns=['timestamp', 'firstComment', 'imageUrl', 'url', 'verified', 'normalizedTimestamp', 'normalizedLikesCount', 'tod', 'dow', 'moy'])\n",
    "vectorizer = CountVectorizer(stop_words='english', max_features=2000)\n",
    "X = vectorizer.fit_transform(captions)\n",
    "feature_array = X.toarray()\n",
    "df_words = pd.DataFrame(feature_array, columns=vectorizer.get_feature_names())\n",
    "df = pd.merge(df, df_words, left_index=True, right_index=True)"
   ]
  },
  {
   "cell_type": "markdown",
   "metadata": {},
   "source": [
    "## Training The Model\n",
    "In this section, we train the model and adjust it based on the results summaries."
   ]
  },
  {
   "cell_type": "markdown",
   "metadata": {},
   "source": [
    "### Baseline Model"
   ]
  },
  {
   "cell_type": "code",
   "execution_count": null,
   "metadata": {
    "scrolled": false
   },
   "outputs": [],
   "source": [
    "avg = df['likesCount'].mean()\n",
    "baseline_X = [(avg,) for _ in range(len(df))]\n",
    "y = df[['likesCount']]\n",
    "X_train, X_test, y_train, y_test = train_test_split(baseline_X, y, test_size=0.20)\n",
    "baseline_regr = Ridge().fit(X_train, y_train)\n",
    "print(\"Train\", baseline_regr.score(X_train, y_train))\n",
    "print(\"Test\", baseline_regr.score(X_test, y_test))"
   ]
  },
  {
   "cell_type": "code",
   "execution_count": null,
   "metadata": {},
   "outputs": [],
   "source": [
    "# X: dataframe , y: series\n",
    "def my_train_test_split(df_tts, test_size):\n",
    "    X_train, X_test = pd.DataFrame(columns = df_tts.columns), pd.DataFrame(columns = df_tts.columns)\n",
    "    y_train, y_test = pd.Series(), pd.Series()\n",
    "    artists = df_tts['username'].unique()\n",
    "    for artist in artists:\n",
    "        df_artist = df_tts[df_tts['username']==artist]\n",
    "        Xa = df_artist[list(df_tts.columns)]\n",
    "        ya = df_artist['likesCount']\n",
    "        Xa_train, Xa_test, ya_train, ya_test = train_test_split(Xa, ya, test_size=test_size)\n",
    "        X_train = X_train.append(Xa_train, ignore_index = True)\n",
    "        X_test = X_test.append(Xa_test, ignore_index = True)\n",
    "        y_train = y_train.append(ya_train, ignore_index = True)\n",
    "        y_test = y_test.append(ya_test, ignore_index = True)\n",
    "    return X_train, X_test, y_train, y_test"
   ]
  },
  {
   "cell_type": "code",
   "execution_count": null,
   "metadata": {
    "scrolled": true
   },
   "outputs": [],
   "source": [
    "df.columns[:50]"
   ]
  },
  {
   "cell_type": "markdown",
   "metadata": {},
   "source": [
    "### Prediction Model"
   ]
  },
  {
   "cell_type": "code",
   "execution_count": null,
   "metadata": {},
   "outputs": [],
   "source": [
    "X_train, X_test, y_train, y_test = my_train_test_split(df, test_size=0.20)\n",
    "X_train, X_test = X_train.drop(columns=['username', 'likesCount']), X_test.drop(columns=['username', 'likesCount'])\n",
    "regr = Ridge().fit(X_train, y_train)\n",
    "print(\"Train\", regr.score(X_train, y_train))\n",
    "print(\"Test\", regr.score(X_test, y_test))"
   ]
  },
  {
   "cell_type": "code",
   "execution_count": null,
   "metadata": {},
   "outputs": [],
   "source": []
  },
  {
   "cell_type": "code",
   "execution_count": null,
   "metadata": {},
   "outputs": [],
   "source": []
  },
  {
   "cell_type": "code",
   "execution_count": null,
   "metadata": {},
   "outputs": [],
   "source": []
  },
  {
   "cell_type": "code",
   "execution_count": null,
   "metadata": {},
   "outputs": [],
   "source": []
  },
  {
   "cell_type": "code",
   "execution_count": null,
   "metadata": {},
   "outputs": [],
   "source": []
  },
  {
   "cell_type": "code",
   "execution_count": null,
   "metadata": {},
   "outputs": [],
   "source": []
  },
  {
   "cell_type": "code",
   "execution_count": null,
   "metadata": {},
   "outputs": [],
   "source": []
  },
  {
   "cell_type": "code",
   "execution_count": null,
   "metadata": {},
   "outputs": [],
   "source": []
  },
  {
   "cell_type": "code",
   "execution_count": null,
   "metadata": {},
   "outputs": [],
   "source": []
  },
  {
   "cell_type": "code",
   "execution_count": null,
   "metadata": {},
   "outputs": [],
   "source": []
  },
  {
   "cell_type": "code",
   "execution_count": null,
   "metadata": {},
   "outputs": [],
   "source": []
  },
  {
   "cell_type": "code",
   "execution_count": null,
   "metadata": {},
   "outputs": [],
   "source": []
  },
  {
   "cell_type": "code",
   "execution_count": null,
   "metadata": {},
   "outputs": [],
   "source": []
  },
  {
   "cell_type": "code",
   "execution_count": null,
   "metadata": {},
   "outputs": [],
   "source": []
  },
  {
   "cell_type": "code",
   "execution_count": null,
   "metadata": {},
   "outputs": [],
   "source": []
  },
  {
   "cell_type": "code",
   "execution_count": null,
   "metadata": {},
   "outputs": [],
   "source": []
  },
  {
   "cell_type": "code",
   "execution_count": null,
   "metadata": {},
   "outputs": [],
   "source": []
  },
  {
   "cell_type": "code",
   "execution_count": null,
   "metadata": {},
   "outputs": [],
   "source": []
  },
  {
   "cell_type": "code",
   "execution_count": null,
   "metadata": {},
   "outputs": [],
   "source": []
  },
  {
   "cell_type": "code",
   "execution_count": null,
   "metadata": {},
   "outputs": [],
   "source": []
  },
  {
   "cell_type": "code",
   "execution_count": null,
   "metadata": {},
   "outputs": [],
   "source": []
  },
  {
   "cell_type": "code",
   "execution_count": null,
   "metadata": {},
   "outputs": [],
   "source": []
  },
  {
   "cell_type": "code",
   "execution_count": null,
   "metadata": {},
   "outputs": [],
   "source": []
  }
 ],
 "metadata": {
  "kernelspec": {
   "display_name": "Python 3",
   "language": "python",
   "name": "python3"
  },
  "language_info": {
   "codemirror_mode": {
    "name": "ipython",
    "version": 3
   },
   "file_extension": ".py",
   "mimetype": "text/x-python",
   "name": "python",
   "nbconvert_exporter": "python",
   "pygments_lexer": "ipython3",
   "version": "3.7.7"
  }
 },
 "nbformat": 4,
 "nbformat_minor": 4
}
